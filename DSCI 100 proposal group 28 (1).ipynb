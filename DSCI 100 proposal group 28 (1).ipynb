{
 "cells": [
  {
   "cell_type": "markdown",
   "id": "387701ef-4ccc-44de-a58b-3da9803d82c2",
   "metadata": {
    "tags": []
   },
   "source": [
    "# Fasting Blood Sugar Level & Maximum Heart Rate vs. Presence of Coronary Heart Disease"
   ]
  },
  {
   "cell_type": "markdown",
   "id": "a74cabf5-6f09-4220-81b3-d3a1f8193fc2",
   "metadata": {
    "jp-MarkdownHeadingCollapsed": true,
    "tags": []
   },
   "source": [
    "## Introduction\n",
    "\n",
    "Coronary artery disease results from the accumulation of cholesterol in the walls of the coronary arteries. Over time, this buildup of plaque causes the arteries to constrict leading to the condition. We will be seeing if the relationship between fasting blood sugar and maximum heart rate achieved during exercise can predict the presence of coronary heart disease, using the dataset “Heart Disease” given by the course. Within this data set, fasting blood sugar is a measurement of blood sugar after fasting overnight and maximum heart rate is a measure of the highest heart rate reached during exercise. This dataset includes information from research undertaken across four different areas: the USA (Cleveland and Long Beach), Hungary, and Switzerland, but we will only be using data from Cleveland."
   ]
  },
  {
   "cell_type": "markdown",
   "id": "ba6b91d5-54a5-4f21-976b-13b6ec525b3e",
   "metadata": {},
   "source": [
    "## Preliminary exploratory data analysis"
   ]
  },
  {
   "cell_type": "code",
   "execution_count": 13,
   "id": "0a629833-bf2b-4ddd-abec-baa69236f6ba",
   "metadata": {
    "tags": []
   },
   "outputs": [],
   "source": [
    "library(tidyverse) #for data wrangling\n",
    "library(repr) #for data visualizing\n",
    "library(tidymodels) #for modeling"

   ]
  },
  {
   "cell_type": "code",
   "execution_count": 14,
   "id": "7e076ca6-2e1c-4d52-ad83-b83dec99fc89",
   "metadata": {
    "tags": []
   },
   "outputs": [
    {
     "name": "stderr",
     "output_type": "stream",
     "text": [
      "\u001b[1m\u001b[22mNew names:\n",
      "\u001b[36m•\u001b[39m `1.0` -> `1.0...2`\n",
      "\u001b[36m•\u001b[39m `1.0` -> `1.0...3`\n",
      "\u001b[36m•\u001b[39m `1.0` -> `1.0...6`\n",
      "\u001b[36m•\u001b[39m `0.0` -> `0.0...9`\n",
      "\u001b[36m•\u001b[39m `0.0` -> `0.0...12`\n",
      "\u001b[1mRows: \u001b[22m\u001b[34m302\u001b[39m \u001b[1mColumns: \u001b[22m\u001b[34m14\u001b[39m\n",
      "\u001b[36m──\u001b[39m \u001b[1mColumn specification\u001b[22m \u001b[36m────────────────────────────────────────────────────────\u001b[39m\n",
      "\u001b[1mDelimiter:\u001b[22m \",\"\n",
      "\u001b[31mchr\u001b[39m  (2): 0.0...12, 6.0\n",
      "\u001b[32mdbl\u001b[39m (12): 63.0, 1.0...2, 1.0...3, 145.0, 233.0, 1.0...6, 2.0, 150.0, 0.0...9...\n",
      "\n",
      "\u001b[36mℹ\u001b[39m Use `spec()` to retrieve the full column specification for this data.\n",
      "\u001b[36mℹ\u001b[39m Specify the column types or set `show_col_types = FALSE` to quiet this message.\n"
     ]
    },
    {
     "data": {
      "text/html": [
       "<table class=\"dataframe\">\n",
       "<caption>A tibble: 6 × 3</caption>\n",
       "<thead>\n",
       "\t<tr><th scope=col>fbs</th><th scope=col>thalach</th><th scope=col>num</th></tr>\n",
       "\t<tr><th scope=col>&lt;fct&gt;</th><th scope=col>&lt;dbl&gt;</th><th scope=col>&lt;fct&gt;</th></tr>\n",
       "</thead>\n",
       "<tbody>\n",
       "\t<tr><td>0</td><td>108</td><td>1</td></tr>\n",
       "\t<tr><td>0</td><td>129</td><td>1</td></tr>\n",
       "\t<tr><td>0</td><td>187</td><td>0</td></tr>\n",
       "\t<tr><td>0</td><td>172</td><td>0</td></tr>\n",
       "\t<tr><td>0</td><td>178</td><td>0</td></tr>\n",
       "\t<tr><td>0</td><td>160</td><td>1</td></tr>\n",
       "</tbody>\n",
       "</table>\n"
      ],
      "text/latex": [
       "A tibble: 6 × 3\n",
       "\\begin{tabular}{lll}\n",
       " fbs & thalach & num\\\\\n",
       " <fct> & <dbl> & <fct>\\\\\n",
       "\\hline\n",
       "\t 0 & 108 & 1\\\\\n",
       "\t 0 & 129 & 1\\\\\n",
       "\t 0 & 187 & 0\\\\\n",
       "\t 0 & 172 & 0\\\\\n",
       "\t 0 & 178 & 0\\\\\n",
       "\t 0 & 160 & 1\\\\\n",
       "\\end{tabular}\n"
      ],
      "text/markdown": [
       "\n",
       "A tibble: 6 × 3\n",
       "\n",
       "| fbs &lt;fct&gt; | thalach &lt;dbl&gt; | num &lt;fct&gt; |\n",
       "|---|---|---|\n",
       "| 0 | 108 | 1 |\n",
       "| 0 | 129 | 1 |\n",
       "| 0 | 187 | 0 |\n",
       "| 0 | 172 | 0 |\n",
       "| 0 | 178 | 0 |\n",
       "| 0 | 160 | 1 |\n",
       "\n"
      ],
      "text/plain": [
       "  fbs thalach num\n",
       "1 0   108     1  \n",
       "2 0   129     1  \n",
       "3 0   187     0  \n",
       "4 0   172     0  \n",
       "5 0   178     0  \n",
       "6 0   160     1  "
      ]
     },
     "metadata": {},
     "output_type": "display_data"
    }
   ],
   "source": [
    "set.seed(1)\n",
    "download.file(\"https://raw.githubusercontent.com/shellumang/dsci-100-2023w1-group-28/main/processed.cleveland%5B1%5D.data\", destfile = \"processed.cleveland.data\")\n",
    "cleveland <- read_csv(\"processed.cleveland.data\")\n",
    "colnames(cleveland) = c(\"age\",\"sex\",\"cp\",\"trestbps\", \"chol\",\"fbs\", \"restecg\", \"thalach\", \"exang\", \"oldpeak\", \"slope\", \"ca\", \"thal\", \"num\") #column headers come from dataset website\n",
    "cleveland$num <- ifelse(cleveland$num>0, 1, 0) #This line of code converts all values > 1 in num to just 1, in order to binarize it.\n",
    "processed_cleveland <- select(cleveland, fbs, thalach, num) |> #we only care about fbs, thalach, num\n",
    "                mutate(fbs = as_factor(fbs)) |> #we consider fbs as a predictor categorical variable\n",
    "                mutate(num = as_factor(num)) #we consider num as a goal categorical variable\n",
    "head(processed_cleveland) #data after first round of processing"
   ]
  },
  {
   "cell_type": "code",
   "execution_count": 15,
   "id": "d277fd36-bb83-4fa7-8384-7b2224f72d9c",
   "metadata": {
    "tags": []
   },
   "outputs": [
    {
     "ename": "ERROR",
     "evalue": "Error in initial_split(processed_cleveland, prop = 0.75, strata = num): could not find function \"initial_split\"\n",
     "output_type": "error",
     "traceback": [
      "Error in initial_split(processed_cleveland, prop = 0.75, strata = num): could not find function \"initial_split\"\nTraceback:\n"
     ]
    }
   ],
   "source": [
    "split_cleveland <- initial_split(processed_cleveland, prop = 0.75, strata = num) #this step is splitting the data into 75% training, 25% test\n",
    "trainingdata <- training(split_cleveland) \n",
    "testingdata <- testing(split_cleveland)\n",
    "head(trainingdata) #training data\n",
    "head(testingdata) #testing data"
   ]
  },
  {
   "cell_type": "code",
   "execution_count": null,
   "id": "bf9c506d-f786-4048-9168-91ff217b6d03",
   "metadata": {
    "tags": []
   },
   "outputs": [],
   "source": [
    "options(repr.plot.width = 10, repr.plot.height = 7) #for visualizing only\n",
    "plot <- ggplot(trainingdata, aes(x = fbs, y = thalach, fill = num)) + \n",
    "geom_bar(position = \"dodge\", stat = \"identity\") + \n",
    "labs(x = \"Fasting Blood Sugar Level (1 for > 120 mg/dl, 0 for <= 120 mg/dl)\", y = \"Maximum heart rate (bpm)\", fill = \"Has heart disease?(0 for no, 1 for yes)\") +\n",
    "ggtitle(\"Maximum heart rate and fasting blood sugar level\")\n",
    "plot"
   ]
  },
  {
   "cell_type": "markdown",
   "id": "7d4c6adc-842f-4078-94f1-79bade91a69b",
   "metadata": {},
   "source": [
    "## Methods\n",
    "\n",
    "We will be using variable #16 (fbs), whether or not their fasting blood sugar level > 120 mg/dl, and variable #32 (thalach), maximum heart rate achieved during exercise, to see if we can predict and classify variable #58 (num), the severity of heart disease in the patient. Note that for variable #58, we will be splitting the class into whether someone does not have a heart disease (num = 0) or does have some heart disease (num > 0). We will also only be using USA data from the Cleveland database for our analysis. To visualize the data, we will graph our results in a bar plot with maximum heart rate on the y-axis and fasting blood sugar on the x-axis, with bars organized by colour based on whether or not individuals are diagnosed with coronary heart disease."
   ]
  },
  {
   "cell_type": "markdown",
   "id": "46c691f7-91e0-46b4-8333-c4867fe69725",
   "metadata": {},
   "source": [
    "## Expected outcomes and significance\n",
    "\n",
    "Individuals with higher fasting blood sugar and/or lower maximum heart rate achieved during exercise will be expected to have coronary artery disease. These findings could help people who have abnormally high fasting blood sugar levels or low maximum heart rates to understand the risks associated with these conditions. This could then encourage them to change their lifestyles in order to decrease their chances of developing heart disease. The outcome of this analysis could lead to questions about how to decrease fasting blood sugar levels, potentially by better monitoring what you eat at night and at what time you eat."
   ]
  },
  {
   "cell_type": "markdown",
   "id": "9550984d-e7ae-47c9-b139-c497fdaba97e",
   "metadata": {},
   "source": [
    "## References\n",
    "\n",
    "Coronary artery disease. Centers for Disease Control and Prevention. (2021, July 19). https://www.cdc.gov/heartdisease/coronary_ad.htm#:~:text=Coronary%20artery%20disease%20is%20caused,This%20process%20is%20called%20atherosclerosis\n",
    "\n",
    "Detrano, R., Janosi, A., Steinbrunn, W., Pfisterer, M., Schmid, J. J., Sandhu, S., Guppy, K. H., Lee, S., & Froelicher, V. (1989). International application of a new probability algorithm for the diagnosis of coronary artery disease. The American journal of cardiology, 64(5), 304–310. https://doi.org/10.1016/0002-9149(89)90524-9\n",
    "\n",
    "Diabetes tests. Centers for Disease Control and Prevention. (2023, February 28). https://www.cdc.gov/diabetes/basics/getting-tested.html#:~:text=Fasting%20Blood%20Sugar%20Test,higher%20indicates%20you%20have%20diabetes\n",
    "\n",
    "Park, C., Guallar, E., Linton, J. A., Lee, D.-C., Jang, Y., Son, D. K., Han, E.-J., Baek, S. J., Yun, Y. D., Jee, S. H., & Samet, J. M. (2013). Fasting glucose level and the risk of incident atherosclerotic cardiovascular diseases. Diabetes Care, 36(7), 1988–1993. https://doi.org/10.2337/dc12-1577\n",
    "\n",
    "Sandvik, L., Erikssen, J., Ellestad, M., Erikssen, G., Thaulow, E., Mundal, R., & Rodahl, K. (1995). Heart rate increase and maximal heart rate during exercise as predictors of cardiovascular mortality. Coronary Artery Disease, 6(8), 667–679. https://doi.org/10.1097/00019501-199508000-00012"
   ]
  }
 ],
 "metadata": {
  "kernelspec": {
   "display_name": "R",
   "language": "R",
   "name": "ir"
  },
  "language_info": {
   "codemirror_mode": "r",
   "file_extension": ".r",
   "mimetype": "text/x-r-source",
   "name": "R",
   "pygments_lexer": "r",
   "version": "4.2.2"
  }
 },
 "nbformat": 4,
 "nbformat_minor": 5
}
